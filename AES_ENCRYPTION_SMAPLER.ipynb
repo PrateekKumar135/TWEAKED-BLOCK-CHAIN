{
  "nbformat": 4,
  "nbformat_minor": 0,
  "metadata": {
    "colab": {
      "provenance": [],
      "authorship_tag": "ABX9TyNlAkylljsmmiMROYqn64uu",
      "include_colab_link": true
    },
    "kernelspec": {
      "name": "python3",
      "display_name": "Python 3"
    },
    "language_info": {
      "name": "python"
    }
  },
  "cells": [
    {
      "cell_type": "markdown",
      "metadata": {
        "id": "view-in-github",
        "colab_type": "text"
      },
      "source": [
        "<a href=\"https://colab.research.google.com/github/PrateekKumar135/TWEAKED-BLOCK-CHAIN/blob/main/AES_ENCRYPTION_SMAPLER.ipynb\" target=\"_parent\"><img src=\"https://colab.research.google.com/assets/colab-badge.svg\" alt=\"Open In Colab\"/></a>"
      ]
    },
    {
      "cell_type": "code",
      "source": [
        "!pip install pycrypto"
      ],
      "metadata": {
        "colab": {
          "base_uri": "https://localhost:8080/"
        },
        "id": "AshjwObBS1CI",
        "outputId": "f6b8a765-045a-4f0b-c540-25b9041d0ed3"
      },
      "execution_count": 7,
      "outputs": [
        {
          "output_type": "stream",
          "name": "stdout",
          "text": [
            "Collecting pycrypto\n",
            "  Downloading pycrypto-2.6.1.tar.gz (446 kB)\n",
            "\u001b[?25l     \u001b[90m━━━━━━━━━━━━━━━━━━━━━━━━━━━━━━━━━━━━━━━━\u001b[0m \u001b[32m0.0/446.2 kB\u001b[0m \u001b[31m?\u001b[0m eta \u001b[36m-:--:--\u001b[0m\r\u001b[2K     \u001b[91m━━━━━━━━━━\u001b[0m\u001b[90m╺\u001b[0m\u001b[90m━━━━━━━━━━━━━━━━━━━━━━━━━━━━━\u001b[0m \u001b[32m112.6/446.2 kB\u001b[0m \u001b[31m3.2 MB/s\u001b[0m eta \u001b[36m0:00:01\u001b[0m\r\u001b[2K     \u001b[91m━━━━━━━━━━━━━━━━━━━━━━━━━━━━━━━━━━━━━━━\u001b[0m\u001b[90m╺\u001b[0m \u001b[32m440.3/446.2 kB\u001b[0m \u001b[31m6.6 MB/s\u001b[0m eta \u001b[36m0:00:01\u001b[0m\r\u001b[2K     \u001b[90m━━━━━━━━━━━━━━━━━━━━━━━━━━━━━━━━━━━━━━━━\u001b[0m \u001b[32m446.2/446.2 kB\u001b[0m \u001b[31m5.4 MB/s\u001b[0m eta \u001b[36m0:00:00\u001b[0m\n",
            "\u001b[?25h  Preparing metadata (setup.py) ... \u001b[?25l\u001b[?25hdone\n",
            "Building wheels for collected packages: pycrypto\n",
            "  Building wheel for pycrypto (setup.py) ... \u001b[?25l\u001b[?25hdone\n",
            "  Created wheel for pycrypto: filename=pycrypto-2.6.1-cp310-cp310-linux_x86_64.whl size=498546 sha256=d62ed8d51ef19975773dfe903e06835f0227fa86e6fecd237bc8d072b3816ded\n",
            "  Stored in directory: /root/.cache/pip/wheels/e8/4b/5b/b10a6fc885057b6ff9fbd5691d7e700d0a9408f80b7e6f12e0\n",
            "Successfully built pycrypto\n",
            "Installing collected packages: pycrypto\n",
            "Successfully installed pycrypto-2.6.1\n"
          ]
        }
      ]
    },
    {
      "cell_type": "code",
      "source": [
        "!pip install pycryptodome"
      ],
      "metadata": {
        "colab": {
          "base_uri": "https://localhost:8080/",
          "height": 200
        },
        "id": "qMhISUV3Tlin",
        "outputId": "c7ceb2cd-78f0-4b58-e2e4-eb77781e5f80"
      },
      "execution_count": 9,
      "outputs": [
        {
          "output_type": "stream",
          "name": "stdout",
          "text": [
            "Collecting pycryptodome\n",
            "  Downloading pycryptodome-3.20.0-cp35-abi3-manylinux_2_17_x86_64.manylinux2014_x86_64.whl (2.1 MB)\n",
            "\u001b[2K     \u001b[90m━━━━━━━━━━━━━━━━━━━━━━━━━━━━━━━━━━━━━━━━\u001b[0m \u001b[32m2.1/2.1 MB\u001b[0m \u001b[31m9.6 MB/s\u001b[0m eta \u001b[36m0:00:00\u001b[0m\n",
            "\u001b[?25hInstalling collected packages: pycryptodome\n",
            "Successfully installed pycryptodome-3.20.0\n"
          ]
        },
        {
          "output_type": "display_data",
          "data": {
            "application/vnd.colab-display-data+json": {
              "pip_warning": {
                "packages": [
                  "Crypto"
                ]
              },
              "id": "0d8af876970f448aa1f468ba89765a48"
            }
          },
          "metadata": {}
        }
      ]
    },
    {
      "cell_type": "code",
      "execution_count": 1,
      "metadata": {
        "id": "28xtpzMR6wud",
        "colab": {
          "base_uri": "https://localhost:8080/"
        },
        "outputId": "6b7eba7a-b281-4f09-8cd7-ca90c47ec19d"
      },
      "outputs": [
        {
          "output_type": "stream",
          "name": "stdout",
          "text": [
            "Enter your message:- Hola amigo! I am looking for seomeone to talk with me:)\n",
            "Enter the number of bytes for the key:- 10000\n",
            "KEY:- b'mykey\\x0b\\x0b\\x0b\\x0b\\x0b\\x0b\\x0b\\x0b\\x0b\\x0b\\x0b'\n",
            "Encoded message:b'\\x96J\\xf0\\xa4f\\xeeU\\xbd\\x1d\\xff\\x19\\xa7\\xb90\\xe7\\xa0M\\x11R\\x01\\xc9\\xf8XQg\\x98\\\\X\\x05\\xe7\\\\c\\xc1JKl\\xacH_4f\\x88\\x02\\x03\\xba\\x8d\\x85-\\xc4T\\x93\\x06\\x16Z\\x0es\\xd8\\r\\x88t\\xdc}R\\xef'\n",
            "Decoded message:Hola amigo! I am looking for seomeone to talk with me:)\n",
            "AUTHENTICATION COMPLETE!\n"
          ]
        }
      ],
      "source": [
        "from Crypto.Cipher import AES\n",
        "from secrets import token_bytes\n",
        "from Crypto.Util.Padding import pad, unpad\n",
        "import binascii\n",
        "message=input('Enter your message:- ').encode('ascii')\n",
        "my_key=token_bytes(int(input('Enter the number of bytes for the key:- ')))\n",
        "key=pad(b'mykey',AES.block_size)\n",
        "print(f'KEY:- {key}')\n",
        "iv = pad(b'myiv', AES.block_size)\n",
        "\n",
        "\n",
        "\n",
        "def encrypt(message):\n",
        "    padded_bytes =pad(message, AES.block_size)\n",
        "    AES_obj= AES.new(key, AES.MODE_CBC, iv)\n",
        "    ciphertext=AES_obj.encrypt(padded_bytes)\n",
        "    return ciphertext\n",
        "ciphertext = encrypt(message)\n",
        "print(f'Encoded message:{ciphertext}')\n",
        "\n",
        "\n",
        "\n",
        "def decryption(ciphertext):\n",
        "    AES_obj= AES.new(key, AES.MODE_CBC,iv)\n",
        "    raw_bytes= AES_obj.decrypt(ciphertext)\n",
        "    extracted_bytes =unpad(raw_bytes, AES.block_size)\n",
        "    return extracted_bytes\n",
        "decoded_message =decryption(ciphertext).decode('ascii')\n",
        "print(f'Decoded message:{decoded_message}')\n",
        "\n",
        "if decoded_message.encode('ascii') == message:\n",
        "    print('AUTHENTICATION COMPLETE!')\n",
        "else:\n",
        "    print('WRONG DECODED MESSAGE!')\n"
      ]
    },
    {
      "cell_type": "code",
      "source": [
        "pip install Crypto\n"
      ],
      "metadata": {
        "id": "Iasm9uqm8oN5",
        "colab": {
          "base_uri": "https://localhost:8080/"
        },
        "outputId": "268750ac-0685-440c-9055-0934f20fce9d"
      },
      "execution_count": 5,
      "outputs": [
        {
          "output_type": "stream",
          "name": "stdout",
          "text": [
            "Requirement already satisfied: Crypto in /usr/local/lib/python3.10/dist-packages (1.4.1)\n",
            "Requirement already satisfied: Naked in /usr/local/lib/python3.10/dist-packages (from Crypto) (0.1.32)\n",
            "Requirement already satisfied: shellescape in /usr/local/lib/python3.10/dist-packages (from Crypto) (3.8.1)\n",
            "Requirement already satisfied: requests in /usr/local/lib/python3.10/dist-packages (from Naked->Crypto) (2.31.0)\n",
            "Requirement already satisfied: pyyaml in /usr/local/lib/python3.10/dist-packages (from Naked->Crypto) (6.0.1)\n",
            "Requirement already satisfied: charset-normalizer<4,>=2 in /usr/local/lib/python3.10/dist-packages (from requests->Naked->Crypto) (3.3.2)\n",
            "Requirement already satisfied: idna<4,>=2.5 in /usr/local/lib/python3.10/dist-packages (from requests->Naked->Crypto) (3.6)\n",
            "Requirement already satisfied: urllib3<3,>=1.21.1 in /usr/local/lib/python3.10/dist-packages (from requests->Naked->Crypto) (2.0.7)\n",
            "Requirement already satisfied: certifi>=2017.4.17 in /usr/local/lib/python3.10/dist-packages (from requests->Naked->Crypto) (2024.2.2)\n"
          ]
        }
      ]
    },
    {
      "cell_type": "code",
      "source": [
        "from Crypto.Cipher import AES\n",
        "from secrets import token_bytes\n",
        "from Crypto.Util.Padding import pad, unpad\n",
        "import binascii\n",
        "message=input('Enter your message:- ').encode('ascii')\n",
        "my_key=token_bytes(int(input('Enter the number of bytes for the key:- ')))\n",
        "key=pad(b'mykey',AES.block_size)\n",
        "print(f'KEY:- {key}')\n",
        "iv = pad(b'myiv', AES.block_size)\n",
        "\n",
        "\n",
        "\n",
        "def encrypt(message):\n",
        "    padded_bytes =pad(message, AES.block_size)\n",
        "    AES_obj= AES.new(key, AES.MODE_CBC, iv)\n",
        "    ciphertext=AES_obj.encrypt(padded_bytes)\n",
        "    return ciphertext\n",
        "ciphertext = encrypt(message)\n",
        "print(f'Encoded message:{ciphertext}')\n",
        "\n",
        "\n",
        "\n",
        "def decryption(ciphertext):\n",
        "    AES_obj= AES.new(key, AES.MODE_CBC,iv)\n",
        "    raw_bytes= AES_obj.decrypt(ciphertext)\n",
        "    extracted_bytes =unpad(raw_bytes, AES.block_size)\n",
        "    return extracted_bytes\n",
        "decoded_message =decryption(ciphertext).decode('ascii')\n",
        "print(f'Decoded message:{decoded_message}')\n",
        "\n",
        "if decoded_message.encode('ascii') == message:\n",
        "    print('AUTHENTICATION COMPLETE!')\n",
        "else:\n",
        "    print('WRONG DECODED MESSAGE!')\n"
      ],
      "metadata": {
        "id": "F8I5d0Z68oo3",
        "colab": {
          "base_uri": "https://localhost:8080/"
        },
        "outputId": "cafb68b4-01e2-4eb3-b52b-a0ccfcad3706"
      },
      "execution_count": 2,
      "outputs": [
        {
          "output_type": "stream",
          "name": "stdout",
          "text": [
            "Enter your message:- Hey! Are you free this summer? Wanna go on a trip?\n",
            "Enter the number of bytes for the key:- 20000\n",
            "KEY:- b'mykey\\x0b\\x0b\\x0b\\x0b\\x0b\\x0b\\x0b\\x0b\\x0b\\x0b\\x0b'\n",
            "Encoded message:b'\\xc1\"z#\\xad\\xfd\\xd6\\xe4\\x94\\xc5\\xd3\\xcfY\\xbf \\xf6]i\\x9c5El\\xa6\\xd528\\x03\\xdf\\xf4W\\x17\\x17\\x8c\\xb0\\xf3\\xa85\\x8dR\\x00U7\\x01\\xb1\\x9b\\x98\\xc3\\x7f)\\xd3\\n\\xb6\\x8er\\x01\\xb2\\xaf(\\xd1~In\\xe6['\n",
            "Decoded message:Hey! Are you free this summer? Wanna go on a trip?\n",
            "AUTHENTICATION COMPLETE!\n"
          ]
        }
      ]
    },
    {
      "cell_type": "code",
      "source": [
        "\n",
        "# from Crypto.Cipher import AES\n",
        "# from secrets import token_bytes\n",
        "# from Crypto.Util.Padding import pad, unpad\n",
        "# import binascii\n",
        "# message=input('Enter your message:- ').encode('ascii')\n",
        "# my_key=token_bytes(int(input('Enter the number of bytes for the key:- ')))\n",
        "# key=pad(b'mykey',AES.block_size)\n",
        "# print(f'KEY:- {key}')\n",
        "# iv = pad(b'myiv', AES.block_size)\n",
        "\n",
        "\n",
        "\n",
        "# def encrypt(message):\n",
        "#     padded_bytes =pad(message, AES.block_size)\n",
        "#     AES_obj= AES.new(key, AES.MODE_CBC, iv)\n",
        "#     ciphertext=AES_obj.encrypt(padded_bytes)\n",
        "#     return ciphertext\n",
        "# ciphertext = encrypt(message)\n",
        "# print(f'Encoded message:{ciphertext}')\n",
        "\n",
        "\n",
        "\n",
        "# def decryption(ciphertext):\n",
        "#     AES_obj= AES.new(key, AES.MODE_CBC,iv)\n",
        "#     raw_bytes= AES_obj.decrypt(ciphertext)\n",
        "#     extracted_bytes =unpad(raw_bytes, AES.block_size)\n",
        "#     return extracted_bytes\n",
        "# decoded_message =decryption(ciphertext).decode('ascii')\n",
        "# print(f'Decoded message:{decoded_message}')\n",
        "\n",
        "# if decoded_message.encode('ascii') == message:\n",
        "#     print('AUTHENTICATION COMPLETE!')\n",
        "# else:\n",
        "#     print('WRONG DECODED MESSAGE!')\n"
      ],
      "metadata": {
        "id": "1mQe1UUX8osd"
      },
      "execution_count": 4,
      "outputs": []
    },
    {
      "cell_type": "code",
      "source": [
        "# from Crypto.Cipher import AES\n",
        "# from secrets import token_bytes\n",
        "# from Crypto.Util.Padding import pad, unpad\n",
        "# import binascii\n",
        "# message=input('Enter your message:- ').encode('ascii')\n",
        "# my_key=token_bytes(int(input('Enter the number of bytes for the key:- ')))\n",
        "# key=pad(b'mykey',AES.block_size)\n",
        "# print(f'KEY:- {key}')\n",
        "# iv = pad(b'myiv', AES.block_size)\n",
        "\n",
        "\n",
        "\n",
        "# def encrypt(message):\n",
        "#     padded_bytes =pad(message, AES.block_size)\n",
        "#     AES_obj= AES.new(key, AES.MODE_CBC, iv)\n",
        "#     ciphertext=AES_obj.encrypt(padded_bytes)\n",
        "#     return ciphertext\n",
        "# ciphertext = encrypt(message)\n",
        "# print(f'Encoded message:{ciphertext}')\n",
        "\n",
        "\n",
        "\n",
        "# def decryption(ciphertext):\n",
        "#     AES_obj= AES.new(key, AES.MODE_CBC,iv)\n",
        "#     raw_bytes= AES_obj.decrypt(ciphertext)\n",
        "#     extracted_bytes =unpad(raw_bytes, AES.block_size)\n",
        "#     return extracted_bytes\n",
        "# decoded_message =decryption(ciphertext).decode('ascii')\n",
        "# print(f'Decoded message:{decoded_message}')\n",
        "\n",
        "# if decoded_message.encode('ascii') == message:\n",
        "#     print('AUTHENTICATION COMPLETE!')\n",
        "# else:\n",
        "#     print('WRONG DECODED MESSAGE!')\n"
      ],
      "metadata": {
        "id": "W89YGT22-O2d"
      },
      "execution_count": 3,
      "outputs": []
    }
  ]
}