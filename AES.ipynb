{
  "nbformat": 4,
  "nbformat_minor": 0,
  "metadata": {
    "colab": {
      "provenance": [],
      "authorship_tag": "ABX9TyOFK4enrREkvVqf4ARYw8JB",
      "include_colab_link": true
    },
    "kernelspec": {
      "name": "python3",
      "display_name": "Python 3"
    },
    "language_info": {
      "name": "python"
    }
  },
  "cells": [
    {
      "cell_type": "markdown",
      "metadata": {
        "id": "view-in-github",
        "colab_type": "text"
      },
      "source": [
        "<a href=\"https://colab.research.google.com/github/PrateekKumar135/TWEAKED-BLOCK-CHAIN/blob/main/AES.ipynb\" target=\"_parent\"><img src=\"https://colab.research.google.com/assets/colab-badge.svg\" alt=\"Open In Colab\"/></a>"
      ]
    },
    {
      "cell_type": "code",
      "source": [
        "pip install Crypto\n"
      ],
      "metadata": {
        "id": "Iasm9uqm8oN5",
        "colab": {
          "base_uri": "https://localhost:8080/"
        },
        "outputId": "a5327103-1006-439a-d7c7-9847b6088a9a"
      },
      "execution_count": 3,
      "outputs": [
        {
          "output_type": "stream",
          "name": "stdout",
          "text": [
            "Collecting Crypto\n",
            "  Downloading crypto-1.4.1-py2.py3-none-any.whl (18 kB)\n",
            "Collecting Naked (from Crypto)\n",
            "  Downloading Naked-0.1.32-py2.py3-none-any.whl (587 kB)\n",
            "\u001b[2K     \u001b[90m━━━━━━━━━━━━━━━━━━━━━━━━━━━━━━━━━━━━━━━━\u001b[0m \u001b[32m587.7/587.7 kB\u001b[0m \u001b[31m6.8 MB/s\u001b[0m eta \u001b[36m0:00:00\u001b[0m\n",
            "\u001b[?25hCollecting shellescape (from Crypto)\n",
            "  Downloading shellescape-3.8.1-py2.py3-none-any.whl (3.1 kB)\n",
            "Requirement already satisfied: requests in /usr/local/lib/python3.10/dist-packages (from Naked->Crypto) (2.31.0)\n",
            "Requirement already satisfied: pyyaml in /usr/local/lib/python3.10/dist-packages (from Naked->Crypto) (6.0.1)\n",
            "Requirement already satisfied: charset-normalizer<4,>=2 in /usr/local/lib/python3.10/dist-packages (from requests->Naked->Crypto) (3.3.2)\n",
            "Requirement already satisfied: idna<4,>=2.5 in /usr/local/lib/python3.10/dist-packages (from requests->Naked->Crypto) (3.6)\n",
            "Requirement already satisfied: urllib3<3,>=1.21.1 in /usr/local/lib/python3.10/dist-packages (from requests->Naked->Crypto) (2.0.7)\n",
            "Requirement already satisfied: certifi>=2017.4.17 in /usr/local/lib/python3.10/dist-packages (from requests->Naked->Crypto) (2024.2.2)\n",
            "Installing collected packages: shellescape, Naked, Crypto\n",
            "Successfully installed Crypto-1.4.1 Naked-0.1.32 shellescape-3.8.1\n"
          ]
        }
      ]
    },
    {
      "cell_type": "code",
      "source": [
        "!pip install pycrypto"
      ],
      "metadata": {
        "colab": {
          "base_uri": "https://localhost:8080/"
        },
        "id": "AshjwObBS1CI",
        "outputId": "b827554a-4425-4d75-f341-dd7964a6b3a9"
      },
      "execution_count": 4,
      "outputs": [
        {
          "output_type": "stream",
          "name": "stdout",
          "text": [
            "Collecting pycrypto\n",
            "  Downloading pycrypto-2.6.1.tar.gz (446 kB)\n",
            "\u001b[?25l     \u001b[90m━━━━━━━━━━━━━━━━━━━━━━━━━━━━━━━━━━━━━━━━\u001b[0m \u001b[32m0.0/446.2 kB\u001b[0m \u001b[31m?\u001b[0m eta \u001b[36m-:--:--\u001b[0m\r\u001b[2K     \u001b[91m━━━━━━━━━━━━━━━━━━━━━\u001b[0m\u001b[90m╺\u001b[0m\u001b[90m━━━━━━━━━━━━━━━━━━\u001b[0m \u001b[32m235.5/446.2 kB\u001b[0m \u001b[31m7.0 MB/s\u001b[0m eta \u001b[36m0:00:01\u001b[0m\r\u001b[2K     \u001b[90m━━━━━━━━━━━━━━━━━━━━━━━━━━━━━━━━━━━━━━━━\u001b[0m \u001b[32m446.2/446.2 kB\u001b[0m \u001b[31m7.6 MB/s\u001b[0m eta \u001b[36m0:00:00\u001b[0m\n",
            "\u001b[?25h  Preparing metadata (setup.py) ... \u001b[?25l\u001b[?25hdone\n",
            "Building wheels for collected packages: pycrypto\n",
            "  Building wheel for pycrypto (setup.py) ... \u001b[?25l\u001b[?25hdone\n",
            "  Created wheel for pycrypto: filename=pycrypto-2.6.1-cp310-cp310-linux_x86_64.whl size=498546 sha256=4ae0bbc2b092d126b2fee9c1dfe9f60cc66eecccf3dfbd9c885feb82c2bd5056\n",
            "  Stored in directory: /root/.cache/pip/wheels/e8/4b/5b/b10a6fc885057b6ff9fbd5691d7e700d0a9408f80b7e6f12e0\n",
            "Successfully built pycrypto\n",
            "Installing collected packages: pycrypto\n",
            "Successfully installed pycrypto-2.6.1\n"
          ]
        }
      ]
    },
    {
      "cell_type": "code",
      "source": [
        "!pip install pycryptodome"
      ],
      "metadata": {
        "colab": {
          "base_uri": "https://localhost:8080/"
        },
        "id": "qMhISUV3Tlin",
        "outputId": "b71357a9-d4a5-47ec-e71a-6fc3efd9f612"
      },
      "execution_count": 5,
      "outputs": [
        {
          "output_type": "stream",
          "name": "stdout",
          "text": [
            "Collecting pycryptodome\n",
            "  Downloading pycryptodome-3.20.0-cp35-abi3-manylinux_2_17_x86_64.manylinux2014_x86_64.whl (2.1 MB)\n",
            "\u001b[?25l     \u001b[90m━━━━━━━━━━━━━━━━━━━━━━━━━━━━━━━━━━━━━━━━\u001b[0m \u001b[32m0.0/2.1 MB\u001b[0m \u001b[31m?\u001b[0m eta \u001b[36m-:--:--\u001b[0m\r\u001b[2K     \u001b[91m━━━━━━━━━━━━━━━━\u001b[0m\u001b[91m╸\u001b[0m\u001b[90m━━━━━━━━━━━━━━━━━━━━━━━\u001b[0m \u001b[32m0.9/2.1 MB\u001b[0m \u001b[31m27.5 MB/s\u001b[0m eta \u001b[36m0:00:01\u001b[0m\r\u001b[2K     \u001b[91m━━━━━━━━━━━━━━━━━━━━━━━━━━━━━━━━━━━━━━━\u001b[0m\u001b[91m╸\u001b[0m \u001b[32m2.1/2.1 MB\u001b[0m \u001b[31m42.4 MB/s\u001b[0m eta \u001b[36m0:00:01\u001b[0m\r\u001b[2K     \u001b[90m━━━━━━━━━━━━━━━━━━━━━━━━━━━━━━━━━━━━━━━━\u001b[0m \u001b[32m2.1/2.1 MB\u001b[0m \u001b[31m25.1 MB/s\u001b[0m eta \u001b[36m0:00:00\u001b[0m\n",
            "\u001b[?25hInstalling collected packages: pycryptodome\n",
            "Successfully installed pycryptodome-3.20.0\n"
          ]
        }
      ]
    },
    {
      "cell_type": "markdown",
      "source": [
        "*These lines import the required modules for AES encryption/decryption and padding/unpadding operations. AES is the module for the Advanced Encryption Standard algorithm. token_bytes is used to generate a secure random key. pad and unpad are used for padding and unpadding the data to make it compatible with the AES block size.*"
      ],
      "metadata": {
        "id": "2sObENYfAxc5"
      }
    },
    {
      "cell_type": "code",
      "source": [
        "from Crypto.Cipher import AES\n",
        "from secrets import token_bytes\n",
        "from Crypto.Util.Padding import pad, unpad\n",
        "import binascii"
      ],
      "metadata": {
        "id": "exQMKICKAzNK"
      },
      "execution_count": 6,
      "outputs": []
    },
    {
      "cell_type": "markdown",
      "source": [
        "*This line prompts the user to enter a message, and then encodes the message using ASCII encoding, which is required for AES encryption.*"
      ],
      "metadata": {
        "id": "pxxRIHQIBK9-"
      }
    },
    {
      "cell_type": "code",
      "source": [
        "message=input('Enter your message:- ').encode('ascii')"
      ],
      "metadata": {
        "colab": {
          "base_uri": "https://localhost:8080/"
        },
        "id": "0RtFT7eyBKXx",
        "outputId": "83cdd803-2651-4d7f-f4b8-a447fcc5f392"
      },
      "execution_count": 7,
      "outputs": [
        {
          "name": "stdout",
          "output_type": "stream",
          "text": [
            "Enter your message:- Hey! Wanna Go  on a trip? If you dont have any plans for this summer? What do you say? :)\n"
          ]
        }
      ]
    },
    {
      "cell_type": "markdown",
      "source": [
        "*This line prompts the user to enter the number of bytes for the encryption key, and then generates a secure random key of the specified byte length using token_bytes.*"
      ],
      "metadata": {
        "id": "4EgDB-HxBcD_"
      }
    },
    {
      "cell_type": "code",
      "source": [
        "my_key=token_bytes(int(input('Enter the number of bytes for the key:- ')))"
      ],
      "metadata": {
        "colab": {
          "base_uri": "https://localhost:8080/"
        },
        "id": "9sxhXeDDBbWh",
        "outputId": "9f4c3730-550d-44c4-cf30-d64b3417c4be"
      },
      "execution_count": 8,
      "outputs": [
        {
          "name": "stdout",
          "output_type": "stream",
          "text": [
            "Enter the number of bytes for the key:- 2000\n"
          ]
        }
      ]
    },
    {
      "cell_type": "markdown",
      "source": [
        "*This line pads the string 'mykey' with bytes to make it compatible with the AES block size (16 bytes for AES-128, 24 bytes for AES-192, and 32 bytes for AES-256). It then prints the padded key.*"
      ],
      "metadata": {
        "id": "Afxgmq-_Bp2U"
      }
    },
    {
      "cell_type": "code",
      "source": [
        "key=pad(b'mykey',AES.block_size)\n",
        "print(f'KEY:- {key}')"
      ],
      "metadata": {
        "colab": {
          "base_uri": "https://localhost:8080/"
        },
        "id": "-R8DX7OXBpYF",
        "outputId": "b5a7be74-a787-4237-c751-adb79f32db17"
      },
      "execution_count": 9,
      "outputs": [
        {
          "output_type": "stream",
          "name": "stdout",
          "text": [
            "KEY:- b'mykey\\x0b\\x0b\\x0b\\x0b\\x0b\\x0b\\x0b\\x0b\\x0b\\x0b\\x0b'\n"
          ]
        }
      ]
    },
    {
      "cell_type": "markdown",
      "source": [
        "*This line pads the string 'myiv' with bytes to create an initialization vector (IV) of the required length for AES encryption in CBC (Cipher Block Chaining) mode.*"
      ],
      "metadata": {
        "id": "ghIB77gCDImp"
      }
    },
    {
      "cell_type": "code",
      "source": [
        "iv = pad(b'myiv', AES.block_size)"
      ],
      "metadata": {
        "id": "V2pKutrcDIGs"
      },
      "execution_count": 10,
      "outputs": []
    },
    {
      "cell_type": "markdown",
      "source": [
        "*This function defines the encryption process. It first pads the input message to make it compatible with the AES block size. Then, it creates a new AES cipher object using the key, AES mode (CBC), and the initialization vector iv. Finally, it encrypts the padded message and returns the ciphertext.*"
      ],
      "metadata": {
        "id": "irmLlQvZDPY5"
      }
    },
    {
      "cell_type": "code",
      "execution_count": 14,
      "metadata": {
        "id": "28xtpzMR6wud"
      },
      "outputs": [],
      "source": [
        "\n",
        "def encrypt(message):\n",
        "    padded_bytes =pad(message, AES.block_size)\n",
        "    AES_obj= AES.new(key, AES.MODE_CBC, iv)\n",
        "    ciphertext=AES_obj.encrypt(padded_bytes)\n",
        "    return ciphertext\n"
      ]
    },
    {
      "cell_type": "markdown",
      "source": [
        "*This function defines the decryption process. It creates a new AES cipher object using the same key, mode (CBC), and initialization vector iv as in the encryption process. It then decrypts the ciphertext to get the raw (padded) bytes. Finally, it unpads the raw bytes to remove the padding and returns the original unpadded bytes.*"
      ],
      "metadata": {
        "id": "886sCLimDry4"
      }
    },
    {
      "cell_type": "code",
      "source": [
        "def decryption(ciphertext):\n",
        "    AES_obj= AES.new(key, AES.MODE_CBC,iv)\n",
        "    raw_bytes= AES_obj.decrypt(ciphertext)\n",
        "    extracted_bytes =unpad(raw_bytes, AES.block_size)\n",
        "    return extracted_bytes"
      ],
      "metadata": {
        "id": "guihGjN3DqL3"
      },
      "execution_count": 13,
      "outputs": []
    },
    {
      "cell_type": "markdown",
      "source": [
        "*This line calls the encrypt function with the user-provided message, stores the resulting ciphertext, and prints the encoded (encrypted) message.*"
      ],
      "metadata": {
        "id": "SwKMmz3bDZTr"
      }
    },
    {
      "cell_type": "code",
      "source": [
        "ciphertext = encrypt(message)\n",
        "print(f'Encoded message:{ciphertext}')"
      ],
      "metadata": {
        "colab": {
          "base_uri": "https://localhost:8080/"
        },
        "id": "rEVF54zjDW9x",
        "outputId": "f7b16951-8ded-4d7e-c0be-73114a6824b9"
      },
      "execution_count": 15,
      "outputs": [
        {
          "output_type": "stream",
          "name": "stdout",
          "text": [
            "Encoded message:b'\\xd8\\xd7p\\xe4.*P\\x08\\xe2\\x93U\\xcf\\xa9\\xad\\xd5\\x82\\x9e\\x8a\\xf0E\\x05\\x95\\xae\\xcej\\x13\\x01\\x95\\xd7\\xc5q\\xef\\xfc\\x1a\\xa8\\xb4\\xd2\\xa2\\xe0\\xdd4\\x883q<z9\\x8d\\xccZ5\\xce)\\x80O\\t\\x08\\xa0\\xa5\\xfd\\x96<B\\xac\\x9fe9\\xfe\\x8c\\xc8\\xf7N\\xfa\\x8d}\\xea|\\xef\\xd9n\\x07\\xd5\\x87< \\xcd\\xab\\x13\\x17#\\x87S\\x8c\\xf0\\xf5V'\n"
          ]
        }
      ]
    },
    {
      "cell_type": "markdown",
      "source": [
        "*This line calls the decryption function with the ciphertext, decodes the resulting bytes using ASCII encoding, and prints the decoded (original) message.*"
      ],
      "metadata": {
        "id": "agQwKIm2DyDf"
      }
    },
    {
      "cell_type": "code",
      "source": [
        "decoded_message =decryption(ciphertext).decode('ascii')\n",
        "print(f'Decoded message:{decoded_message}')"
      ],
      "metadata": {
        "colab": {
          "base_uri": "https://localhost:8080/"
        },
        "id": "gcZprTJ5Dxnf",
        "outputId": "f73e53c1-8cb3-438a-da06-51247ac9d1d4"
      },
      "execution_count": 16,
      "outputs": [
        {
          "output_type": "stream",
          "name": "stdout",
          "text": [
            "Decoded message:Hey! Wanna Go  on a trip? If you dont have any plans for this summer? What do you say? :)\n"
          ]
        }
      ]
    },
    {
      "cell_type": "markdown",
      "source": [
        "*This block of code checks if the decoded message, after encoding it back to bytes using ASCII encoding, is the same as the original message. If they match, it prints \"AUTHENTICATION COMPLETE!\", indicating that the encryption and decryption processes were successful. If they don't match, it prints \"WRONG DECODED MESSAGE!\", indicating an error in the encryption/decryption process.*"
      ],
      "metadata": {
        "id": "w003Csc0EDGv"
      }
    },
    {
      "cell_type": "code",
      "source": [
        "if decoded_message.encode('ascii') == message:\n",
        "    print('AUTHENTICATION COMPLETE! CORRECT MESSAGE DECODED!')\n",
        "else:\n",
        "    print('WRONG DECODED MESSAGE!')"
      ],
      "metadata": {
        "colab": {
          "base_uri": "https://localhost:8080/"
        },
        "id": "fW6SPsN_EChZ",
        "outputId": "7ad1c6bd-26b6-4766-ea99-2e18290c13cc"
      },
      "execution_count": 18,
      "outputs": [
        {
          "output_type": "stream",
          "name": "stdout",
          "text": [
            "AUTHENTICATION COMPLETE! CORRECT MESSAGE DECODED!\n"
          ]
        }
      ]
    },
    {
      "cell_type": "markdown",
      "source": [
        "**In summary, this code implements AES encryption and decryption in CBC mode using a user-provided message and a randomly generated key. It demonstrates how to encrypt a message, generate the ciphertext, and then decrypt the ciphertext to retrieve the original message. It also includes padding and unpadding operations to ensure that the data is compatible with the AES block size.**"
      ],
      "metadata": {
        "id": "0fZ2AoXzETz8"
      }
    },
    {
      "cell_type": "code",
      "source": [
        "# from Crypto.Cipher import AES\n",
        "# from secrets import token_bytes\n",
        "# from Crypto.Util.Padding import pad, unpad\n",
        "# import binascii\n",
        "# message=input('Enter your message:- ').encode('ascii')\n",
        "# my_key=token_bytes(int(input('Enter the number of bytes for the key:- ')))\n",
        "# key=pad(b'mykey',AES.block_size)\n",
        "# print(f'KEY:- {key}')\n",
        "# iv = pad(b'myiv', AES.block_size)\n",
        "\n",
        "\n",
        "\n",
        "# def encrypt(message):\n",
        "#     padded_bytes =pad(message, AES.block_size)\n",
        "#     AES_obj= AES.new(key, AES.MODE_CBC, iv)\n",
        "#     ciphertext=AES_obj.encrypt(padded_bytes)\n",
        "#     return ciphertext\n",
        "# ciphertext = encrypt(message)\n",
        "# print(f'Encoded message:{ciphertext}')\n",
        "\n",
        "\n",
        "\n",
        "# def decryption(ciphertext):\n",
        "#     AES_obj= AES.new(key, AES.MODE_CBC,iv)\n",
        "#     raw_bytes= AES_obj.decrypt(ciphertext)\n",
        "#     extracted_bytes =unpad(raw_bytes, AES.block_size)\n",
        "#     return extracted_bytes\n",
        "# decoded_message =decryption(ciphertext).decode('ascii')\n",
        "# print(f'Decoded message:{decoded_message}')\n",
        "\n",
        "# if decoded_message.encode('ascii') == message:\n",
        "#     print('AUTHENTICATION COMPLETE!')\n",
        "# else:\n",
        "#     print('WRONG DECODED MESSAGE!')\n"
      ],
      "metadata": {
        "id": "F8I5d0Z68oo3"
      },
      "execution_count": 1,
      "outputs": []
    }
  ]
}