{
  "cells": [
    {
      "cell_type": "markdown",
      "metadata": {
        "id": "view-in-github",
        "colab_type": "text"
      },
      "source": [
        "<a href=\"https://colab.research.google.com/github/PrateekKumar135/TWEAKED-BLOCK-CHAIN/blob/main/TWEAKED_BLOCK_CHAIN.ipynb\" target=\"_parent\"><img src=\"https://colab.research.google.com/assets/colab-badge.svg\" alt=\"Open In Colab\"/></a>"
      ]
    },
    {
      "cell_type": "markdown",
      "source": [
        "These lines import the necessary modules: hashlib for hashing data and rsa for performing RSA encryption/decryption."
      ],
      "metadata": {
        "id": "gY9sMw0q97kx"
      }
    },
    {
      "cell_type": "code",
      "source": [
        "import hashlib\n",
        "import rsa"
      ],
      "metadata": {
        "id": "dMH9cHBd96aC"
      },
      "execution_count": 7,
      "outputs": []
    },
    {
      "cell_type": "markdown",
      "source": [
        "This defines a BlockChain class with an __init__ method that takes two arguments: previous_data_hash (the hash of the previous block) and data_list (a list of data strings to be stored in the current block). It creates a block_data string by joining the data_list elements with '+' and appending the previous_data_hash. It then calculates the SHA-256 hash of block_data and stores it as block_hash."
      ],
      "metadata": {
        "id": "f8qlEAzx-ENR"
      }
    },
    {
      "cell_type": "code",
      "source": [
        "\n",
        "class BlockChain:\n",
        "    def __init__(self, previous_data_hash, data_list):\n",
        "        self.previous_data_hash = previous_data_hash\n",
        "        self.data_list = data_list\n",
        "\n",
        "\n",
        "        self.block_data = '+'.join(data_list) + '+' + previous_data_hash\n",
        "        self.block_hash = hashlib.sha256(self.block_data.encode()).hexdigest()\n",
        "\n"
      ],
      "metadata": {
        "id": "wc10dAzt-DGs"
      },
      "execution_count": 8,
      "outputs": []
    },
    {
      "cell_type": "markdown",
      "source": [
        "This line generates a new RSA key pair with a key length of 3000 bits, storing the public key in pubkey and the private key in privkey."
      ],
      "metadata": {
        "id": "mNVjPE0F-OFZ"
      }
    },
    {
      "cell_type": "code",
      "source": [
        "(pubkey, privkey) =rsa.newkeys(3000)"
      ],
      "metadata": {
        "id": "VQPI37Q1-NNJ"
      },
      "execution_count": 9,
      "outputs": []
    },
    {
      "cell_type": "code",
      "source": [
        "\n",
        "\n",
        "\n",
        "d1 = 'Hey! This is my First project on Cryptography.'\n",
        "d2 = ' I have tried to implement Tweaked Block-Chain with RSA.'\n",
        "d3 = 'Hope, I can get attention to the recruiters,there.'\n",
        "d4 = \"In Future, I'm planning to deploy this in server for demo purpose in real-time appplications\"\n",
        "d5= 'Thank you!'\n",
        "\n",
        "\"\"\"These lines define some sample data strings to be stored in the blockchain.\"\"\"\n",
        "\n",
        "\n",
        "initial_block=BlockChain('Initial string', [d1,d2])\n",
        "print(initial_block.block_data)\n",
        "print(initial_block.block_hash)\n",
        "\"\"\"This creates the initial block of the blockchain using the BlockChain\n",
        " class with the data strings d1 and d2, and an initial string as the previous_data_hash.\n",
        "  It then prints the block_data and block_hash for this block.\"\"\"\n",
        "\n",
        "\n",
        "second_block=BlockChain(initial_block.block_hash, [d3,d4])\n",
        "print(second_block.block_data)\n",
        "print(second_block.block_hash)\n",
        "\n",
        "\n",
        "\"\"\"This creates the second block of the blockchain, using the hash of the initial block as the previous_data_hash,\n",
        "and the data strings d3 and d4.\n",
        "It then prints the block_data and block_hash for this block.\"\"\"\n",
        "\n",
        "\n",
        "third_block=BlockChain(second_block.block_hash,[d5])\n",
        "print(third_block.block_data)\n",
        "print(third_block.block_hash)\n",
        "\"\"\"This creates the third block of the blockchain,\n",
        " using the hash of the second block as the previous_data_hash, and the data string d5.\n",
        "It then prints the block_data and block_hash for this block.\"\"\"\n",
        "\n",
        "\n",
        "message=initial_block.block_hash.encode('utf16')\n",
        "crypt =rsa.encrypt(message, pubkey)\n",
        "print(f'Tweak-RSA-crypt-for-initial-block-data: {crypt}')\n",
        "\"\"\"This line encodes the hash of the initial block using UTF-16 encoding,\n",
        " encrypts the encoded hash using the public key pubkey with RSA encryption, and prints the encrypted message with a label.\"\"\"\n",
        "\n",
        "# Decryption and verification\n",
        "decrypted_message = rsa.decrypt(crypt, privkey).decode('utf16')\n",
        "print(f'Decrypted initial block hash: {decrypted_message}')\n",
        "print(f'Verification: {decrypted_message == initial_block.block_hash}') #checked for truthness of encoding and decoding\n",
        "\"\"\"These lines decrypt the encrypted data (crypt) using the private key (privkey), decode the decrypted bytes back to a string,\n",
        "print the decrypted message (which should be the original block hash),\n",
        " and then verify if the decrypted message matches the original block_hash value.\"\"\""
      ],
      "metadata": {
        "id": "Oo3o6KtUcMJL",
        "outputId": "ee651c25-ff12-45a4-dfea-ae2efb37f0c1",
        "colab": {
          "base_uri": "https://localhost:8080/"
        }
      },
      "execution_count": 4,
      "outputs": [
        {
          "output_type": "stream",
          "name": "stdout",
          "text": [
            "Hey! This is my First project on Cryptography.+ I have tried to implement Tweaked Block-Chain with RSA.+Initial string\n",
            "f4f54b0553da7b4eab61713d66445702b6dcc927b8a2b094f3d986937c1c88fe\n",
            "Hope, I can get attention to the recruiters,there.+In Future, I'm planning to deploy this in server for demo purpose in real-time appplications+f4f54b0553da7b4eab61713d66445702b6dcc927b8a2b094f3d986937c1c88fe\n",
            "54bfd5c8ea5dd41a5d40bb9ee56d3449ada8186b8a74babaa8fd2728a84c7352\n",
            "Thank you!+54bfd5c8ea5dd41a5d40bb9ee56d3449ada8186b8a74babaa8fd2728a84c7352\n",
            "451776e1a502aeeab747a98a6b688e5ab11bd48af97fdeae43baf9093a8988c0\n",
            "Tweak-RSA-crypt-for-initial-block-data: b')\\x1d\\x15\\x12\\xff\\x8f\\xcb!\\x82\\x8c\\x80\\x93`\\xe3\\xbd@\\x1du\\xdb\\t\\xb3\\xe3q\\xd6\\xd7b]b\\xa0y_\\t\\x95\\xf7\\x17N\\xac\\x12\\x15\\x9fl<\\xcf\\x96\\xe3R\\x0b\\xef\\xdf\\xbf\\r\\x82\\x97\\xa3qj\\xd4\\x14\\x19\\x87\\xfd\\xe9$.e\\xbcc\\xd5\\x111\\xc1D\\xfb\\xe2%+\\xc0\\xa8\"{Q[B\\xbai\\x9c\\xe9\\xcf\\xa5\\xe0\\x07\\x9f\\x0c\\xee.\\xa9\\x02X\\xee\\x95;#t\\xbc\\x82\\xb2\\xddn\\xe0\\xc2\\xc6Nk\\x94O3n\\xe1\\xbd\\xa3\\x890\\xe9C\\x93\\xbb\\xfe\\xba\\xba\\xdf]\\xdf2\\xb0\\x91\\xa3\\xf4\\x89\\xd6u?\\n\\xb9\\xe4Kz\\xe6\\\\\\x01\\xf1}G\\x1b\\xdb|0<\\xabLZ*\\xf7i\\x92C\\xd4\\x01%5\\x8c\\x19\\xc9%\\xbe\\x0e\\x9a\"EH{\\xfc.YjC\\x0b\\x90\\x9f\\xb5\\xd1CI\\xe2\\xb3\\x8af\\xf5\\xd9\\xfc0EJ\\x1fv>\\x8e\\xcesbA\\n\\xf9\\x14c\\xea\\xea\\xb4p\\xcd]{\\xb7\\xbefk\\xbd\\xd6\\xe0\\x11\\x1f\\xadH7A\\x1c\\x99\\xc2\\x95`\\xb1moS\\xb7\\xa4Z=\\xb8\\x91\\x8cf\\x1d\\xbb\\xdaH\\xfc9a\\xcbb\\x15\\xbb%H\\xbfV\\x9a\\x13\\x03%\\xfb,\\x00\\'\\xb9\\xd3\\xfd\\x8c\\xdfj3H\\x15,\\x99\\xe63!\\xf6\\xed\\xd6\\xd1za07rj?\\xe5\\x1b\\xb6\\xf7\\xf9!\\x91\\xba\\x02_\\xd1G\\x95cJ\\xcfZ\\x0f\\x96\\xfb\\x07\\xdb\\t\\x11\\xe3\\xfb\\xc1\\x0cr\\t\\x02\\x9c\\\\I0\\xf4)\\xa3\\xff\\xca\\x0b\\xa6\\x04\\x81T\\xde\\xb3\\xcdW\\xdaO2;\\xfdTA\\xef|\\xc8\\xef\\x94\\xb6Q\\xbc\\xa3\\xc2\\xc4+$\\x7fz$\\xc8$g\\x9b'\n",
            "Decrypted initial block hash: f4f54b0553da7b4eab61713d66445702b6dcc927b8a2b094f3d986937c1c88fe\n",
            "Verification: True\n"
          ]
        }
      ]
    },
    {
      "cell_type": "code",
      "source": [
        "message=second_block.block_hash.encode('utf16')\n",
        "crypt =rsa.encrypt(message, pubkey)\n",
        "print(f'Tweak-RSA-crypt-for-second-block-data: {crypt}')\n",
        "# Decryption and verification\n",
        "decrypted_message = rsa.decrypt(crypt, privkey).decode('utf16')\n",
        "print(f'Decrypted second block hash: {decrypted_message}')\n",
        "print(f'Verification: {decrypted_message == second_block.block_hash}') #checked for truthness of encoding and decoding"
      ],
      "metadata": {
        "id": "S69ixu8zdiwn",
        "colab": {
          "base_uri": "https://localhost:8080/"
        },
        "outputId": "ba04f739-c0db-4710-f924-473fd4cc3867"
      },
      "execution_count": 5,
      "outputs": [
        {
          "output_type": "stream",
          "name": "stdout",
          "text": [
            "Tweak-RSA-crypt-for-second-block-data: b'\\xac\\xd8\\x9fO\\x0ea\\x82\\xd4=d.n\\xc7\\xdaD\\xeb&w\\xa5e\\x95=\\xa8\\xe3&N\\xaf)\\xc6S1\\xc4]\\x8b\\xf3Xq$\\t\\xeb\\xac\\x85\\xe2{\\xbb\\x945`n\\x05\\'\\xe1\\x17\\x18=-\\x8d7\\xc6\\xac\\x84\\xe1\\x0f\\xbd\\x1a\\xb5jTi\\x92\\x8a\\x19n)\\x03j\\x1aVB\\xbc\\xd6w[\\xde\\xb4k\\x95-\\xe9\\x05\\xe1\\xe9%\\x1f\\x90:\\t\\xef\\xeb{\\xe0dA\\x7f)\\x11y\\xe4E\\xf7gf\\x9f3-%\\xfc\\tnU\\xab\\xf9gM]x\\xa0\\x11\\xad7\\xa1/\\xd5(\\xb6\\xbc\\x7fI\\x93\\xbd\\xd2\\xce\\xf9\\xb7\\x1e\\x84I\\x8b%P\\xd7\\xa6\\x82\\x93\\xf2\\x93y7\\xba\\xfc\\xd9\\xbf\\x18F\\x99\\xb9\"i\\x90\\'\\x85\\xf2A\\x89\\xd4\\x8aB\\xf3\\x05\\x98\\xdc\\xec\\x14\\xb9\\xe0\\x87X\\xfb\\xc1hp\\x1d\\xd6\\x89\\x04\\xcdl\\xe98\\x82\\xc1aCR\\xac\\xf1\\xb3\\xb6\\xc0\\x8c\\x9bn\\x15\\x1e\\xdb\\xced\\xcbk\\xbf\\x83\\x9c+\\xf0\\xd0\\xaa\\xef\\xda\\x0e\\xdc\\xae6\\x9c\\xa0u4b\\x82\\x8a\")\\x8c\\xb9\\xec(\\xceJk\\xd2\\xb0\\xdf\\xf9\\xa5\\x08\\x1a\\xf1\\x03R\\xf0\\xc8\\x18s\\xe1\\xab\\x9d\\x84H\\xa4\\x05\\x0c1Z\\xbc\\xe9oAO\\x8ft\\x03\\xef\\xd7\\xfe\\x0f\\xf2\\x9e\\xfb\\xc6\\x97\\xd6\\x8d9\\xed\\x93\\x87\\xeeV55\\x98\\x1d\\xf9!\\xdf/>\\x9a=\\xba\\x9b\\x16z\\xe0m\\xee0\\xf5\\xd2\\xc5u\\xa2\\xa1(G\\xe9\\x10\\xa2\\xc0\\x82\\x1a*T\\x10\\x9b9\\xcbX\\xc3\\r\\xfb\\xb7C<U\\xfdJ[\\xd4\\xdd\\xbd\\xe8\\xd3!D\\xe3V\\xa3\\x99$\\x11d\\x1e\\x88\\xc6\\xcdh\\x83\\xe1F~R\\xb6\\xec);'\n",
            "Decrypted second block hash: 54bfd5c8ea5dd41a5d40bb9ee56d3449ada8186b8a74babaa8fd2728a84c7352\n",
            "Verification: True\n"
          ]
        }
      ]
    },
    {
      "cell_type": "code",
      "source": [
        "message=third_block.block_hash.encode('utf16')\n",
        "crypt =rsa.encrypt(message, pubkey)\n",
        "print(f'Tweak-RSA-crypt-for-third-block-data: {crypt}')\n",
        "# Decryption and verification\n",
        "decrypted_message = rsa.decrypt(crypt, privkey).decode('utf16')\n",
        "print(f'Decrypted second block hash: {decrypted_message}')\n",
        "print(f'Verification: {decrypted_message == third_block.block_hash}') #checked for truthness of encoding and decoding"
      ],
      "metadata": {
        "id": "GvODRRBhdk5k",
        "colab": {
          "base_uri": "https://localhost:8080/"
        },
        "outputId": "f7b9dbc1-c07c-437a-c088-d6f6115a25b6"
      },
      "execution_count": 6,
      "outputs": [
        {
          "output_type": "stream",
          "name": "stdout",
          "text": [
            "Tweak-RSA-crypt-for-third-block-data: b\"\\x87\\x84\\x19q\\xde\\xef\\xcb\\x1f\\x92UF\\xc6\\xc7\\x1c\\xed\\x1a!M\\xe5\\\\%\\x9e\\xfa\\xa3\\x8e\\xbcE\\x8b;\\xdc\\x183\\xd5\\xc3\\xf3\\xe86\\xf95\\xd8\\t\\x95_e\\xd9J\\xc7\\x0b\\x96\\xc5\\xddOG\\xcb\\xfeJ\\xccc\\xdc!\\x03=\\xeb0oi\\xee\\xb7\\xe5\\x94\\xcf\\xfdy\\xa9\\xfe9I\\x00\\x03\\x08\\xbbT\\x9b\\x00\\xbb;\\xc8\\xbb\\x16\\xaaM5(#\\xac=z\\xa7J\\xacJ\\xe6v2<\\xf0\\x90\\x81g-l\\x0f\\xb3\\xebg\\xbb)\\x83T\\x1902\\x91<W\\xe9\\x07\\xb1\\xa4\\x84\\x90\\xb7\\xd5\\ng\\x1e?@h\\x89\\xc2\\x0bv\\x17,l\\x7f\\xea\\xf3A\\xc5\\xb9\\xbe\\xc1H\\xb1\\xc7\\xf5\\x1b\\xe7W\\x16$)\\xd8?\\xe5\\xec\\xe1\\xea~\\xe1\\xc6\\x83\\xbc\\xc9\\xfc\\xafZ/\\xb4\\xb4\\xc0\\xb6\\xf3\\xf6p\\x9e|\\t\\xa0\\x8c\\x8c\\\\\\x08\\xe1\\xc8\\x0eOu\\xf1\\x84\\x98)Pi\\x93%&<\\x08\\xa5\\x9eC\\x1eN\\xda\\xf1\\x08o#Z\\x85\\x91\\x97\\x11ZB\\xaaQ\\x9e\\x9e\\x90\\xf0\\xd1q\\x9f\\xa8\\x82\\xe8\\xd8G\\x11\\x9d\\x88\\x17S\\xe6+\\x0b$\\x83<\\xe2\\xa4oK\\x92\\x1b\\xaf\\x0b{\\xdf{#\\x81/\\x11\\x11\\x9c4\\x0e\\x93\\xfe\\xc3\\xa0\\xb9t\\xe2\\xa1 \\xf98\\xbc\\xe0\\xb2\\xf9\\xc4\\xdb\\xb6/\\x8d\\xc5\\x99\\xb8\\xdd\\xc5b\\x1a;\\xb3[N\\xb3\\x94\\xab\\xa3T\\xcf\\x85\\xcf\\x01#\\xc2\\xbb\\xb6\\xf3\\nz\\x91\\xfc\\xb6\\xb8i\\xac\\x14_]u\\xa22s;`\\x91L\\xe3\\x93\\xd1|\\xe5\\xdb3o#\\xbc7\\x03\\xc9P&\\x13\\xa1\\xc3\\x8e\\x11\\x8a\\xab\\xe6.\\xe3\\xb8\\xec!\\xd0'\\xf9\\xcc\\xab\\x13\\x0fn\\xbe\\xb1\\xe8\"\n",
            "Decrypted second block hash: 451776e1a502aeeab747a98a6b688e5ab11bd48af97fdeae43baf9093a8988c0\n",
            "Verification: True\n"
          ]
        }
      ]
    },
    {
      "cell_type": "markdown",
      "source": [
        " *This code demonstrates the basic concept of a blockchain by creating a chain of blocks, where each block contains data and a reference to the previous block's hash. It also shows how to encrypt the block hashes using RSA encryption with the public key and decrypt them using the private key for verification purposes.*\n",
        "\n",
        "*The output of this code will show the block_data and block_hash for each block, the encrypted data for the initial and second blocks, and the decrypted messages (which should match the original block hashes) along with a verification message indicating whether the decryption and verification were successful.*"
      ],
      "metadata": {
        "id": "dU1iRUT1_cg4"
      }
    },
    {
      "cell_type": "markdown",
      "source": [
        "**I'll explain this code in simple terms**:\n",
        "\n",
        "Imagine you have a long chain of locked boxes, and each box contains some information. The trick is that each box is locked with a special lock that requires two keys – a public key and a private key. The public key can be shared with everyone, but the private key is kept secret and only known to the owner of the boxes.\n",
        "\n",
        "Now, let's go through the code step-by-step:\n",
        "\n",
        "1. First, we import two tools: `hashlib` to create digital fingerprints (hashes) of the information, and `rsa` to create the special locks with public and private keys.\n",
        "\n",
        "2. Next, we define a class called `BlockChain` that represents each box in the chain. When creating a new box (block), we need to provide the fingerprint (hash) of the previous box, and a list of information (data) to be stored in the new box.\n",
        "\n",
        "3. We create the public and private keys for the special locks using `rsa.newkeys(3000)`. The number `3000` determines how strong the locks will be (the higher the number, the stronger the lock).\n",
        "\n",
        "4. We define some sample information (strings) that we want to store in the boxes.\n",
        "\n",
        "5. We create the first box (initial block) using the `BlockChain` class, providing an initial string as the previous hash and the first two data strings (`d1` and `d2`). We print the contents of this box and its fingerprint (hash).\n",
        "\n",
        "6. We create the second box (block) using the hash of the first box as the previous hash, and the next two data strings (`d3` and `d4`). We print the contents and hash of this box.\n",
        "\n",
        "7. We create the third box (block) using the hash of the second box as the previous hash, and the last data string (`d5`). We print the contents and hash of this box.\n",
        "\n",
        "8. For each box (block), we take its fingerprint (hash) and encode it using a specific method (`utf16`).\n",
        "\n",
        "9. We then use the public key to lock (encrypt) the encoded fingerprint of each box, creating a special locked message (crypt) that can only be unlocked with the private key. We print this locked message.\n",
        "\n",
        "10. To verify the contents of each box, we use the private key to unlock (decrypt) the locked message, revealing the original fingerprint (hash).\n",
        "\n",
        "11. We print the unlocked fingerprint and compare it with the original hash of the box to verify that the contents haven't been tampered with during the locking/unlocking process.\n",
        "\n",
        "**So, in summary, this code creates a chain of boxes (blocks) where each box contains some information and is locked with a special lock (encryption) that can only be unlocked with a private key. By unlocking the boxes and verifying the fingerprints (hashes), we can ensure that the information inside hasn't been modified or tampered with.**"
      ],
      "metadata": {
        "id": "b1Tvd8s49jz7"
      }
    },
    {
      "cell_type": "code",
      "source": [],
      "metadata": {
        "id": "x3JKA34E9b_N"
      },
      "execution_count": null,
      "outputs": []
    }
  ],
  "metadata": {
    "colab": {
      "provenance": [],
      "authorship_tag": "ABX9TyPktgPcwLTd4fOURwbbfZZt",
      "include_colab_link": true
    },
    "kernelspec": {
      "display_name": "Python 3",
      "name": "python3"
    },
    "language_info": {
      "name": "python"
    }
  },
  "nbformat": 4,
  "nbformat_minor": 0
}